{
 "cells": [
  {
   "cell_type": "code",
   "execution_count": 1,
   "id": "latin-nylon",
   "metadata": {},
   "outputs": [],
   "source": [
    "import time\n",
    "from jetbot import Robot\n",
    "\n",
    "# Robotインスタンス生成\n",
    "robot = Robot()"
   ]
  },
  {
   "cell_type": "markdown",
   "id": "painted-firewall",
   "metadata": {},
   "source": [
    "## Part1:\n",
    "基本のモーター操作\n",
    "\n",
    "`Robot`クラスの下記のメソッドにより、モーターを制御できる:\n",
    "- `robot.left()`\n",
    "- `robot.right()`\n",
    "- `robot.forward()`\n",
    "- `robot.backward()`\n",
    "- `robot.stop()`\n",
    "\n",
    "もしくは、ロボットのモーターの速さを明示的に設定できる:\n",
    "\n",
    "```python\n",
    "robot.left_motor.value = 0.3\n",
    "robot.right_motor.value = 0.6\n",
    "```\n",
    "\n",
    "`time.sleep`でモータの起動時間を設定できる。"
   ]
  },
  {
   "cell_type": "code",
   "execution_count": 5,
   "id": "biological-lightweight",
   "metadata": {},
   "outputs": [],
   "source": [
    "# 1秒で左ターンする\n",
    "robot.left(0.1) # right, forward, backward もある\n",
    "time.sleep(1)\n",
    "robot.stop()"
   ]
  },
  {
   "cell_type": "code",
   "execution_count": 4,
   "id": "attached-reset",
   "metadata": {},
   "outputs": [],
   "source": [
    "# 左ターンする\n",
    "robot.left_motor.value = 0.3\n",
    "robot.right_motor.value = 0.6\n",
    "time.sleep(1)\n",
    "robot.left_motor.value = 0\n",
    "robot.right_motor.value = 0"
   ]
  },
  {
   "cell_type": "markdown",
   "id": "weird-lying",
   "metadata": {},
   "source": [
    "## Part 2: \n",
    "カメラの操作"
   ]
  },
  {
   "cell_type": "code",
   "execution_count": 6,
   "id": "rotary-shore",
   "metadata": {},
   "outputs": [],
   "source": [
    "from jetbot import Camera\n",
    "\n",
    "camera = Camera()"
   ]
  },
  {
   "cell_type": "code",
   "execution_count": 7,
   "id": "patent-helena",
   "metadata": {},
   "outputs": [
    {
     "data": {
      "application/vnd.jupyter.widget-view+json": {
       "model_id": "5569b3155e924094a317d691d4ebddad",
       "version_major": 2,
       "version_minor": 0
      },
      "text/plain": [
       "Image(value=b'\\xff\\xd8\\xff\\xe0\\x00\\x10JFIF\\x00\\x01\\x01\\x00\\x00\\x01\\x00\\x01\\x00\\x00\\xff\\xdb\\x00C\\x00\\x02\\x01\\x0…"
      ]
     },
     "metadata": {},
     "output_type": "display_data"
    }
   ],
   "source": [
    "camera.widget()"
   ]
  },
  {
   "cell_type": "code",
   "execution_count": 8,
   "id": "proved-original",
   "metadata": {},
   "outputs": [],
   "source": [
    "camera.stop()"
   ]
  },
  {
   "cell_type": "code",
   "execution_count": null,
   "id": "behind-option",
   "metadata": {},
   "outputs": [],
   "source": []
  }
 ],
 "metadata": {
  "kernelspec": {
   "display_name": "Python 3",
   "language": "python",
   "name": "python3"
  },
  "language_info": {
   "codemirror_mode": {
    "name": "ipython",
    "version": 3
   },
   "file_extension": ".py",
   "mimetype": "text/x-python",
   "name": "python",
   "nbconvert_exporter": "python",
   "pygments_lexer": "ipython3",
   "version": "3.6.9"
  }
 },
 "nbformat": 4,
 "nbformat_minor": 5
}
